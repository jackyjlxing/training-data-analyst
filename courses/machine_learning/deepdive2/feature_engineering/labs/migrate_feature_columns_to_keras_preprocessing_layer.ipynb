{
 "cells": [
  {
   "cell_type": "code",
   "execution_count": 1,
   "metadata": {},
   "outputs": [
    {
     "name": "stderr",
     "output_type": "stream",
     "text": [
      "2024-06-30 12:08:52.484650: I external/local_tsl/tsl/cuda/cudart_stub.cc:32] Could not find cuda drivers on your machine, GPU will not be used.\n",
      "2024-06-30 12:08:52.723606: I external/local_tsl/tsl/cuda/cudart_stub.cc:32] Could not find cuda drivers on your machine, GPU will not be used.\n",
      "2024-06-30 12:08:53.531802: I tensorflow/core/platform/cpu_feature_guard.cc:210] This TensorFlow binary is optimized to use available CPU instructions in performance-critical operations.\n",
      "To enable the following instructions: AVX2, in other operations, rebuild TensorFlow with the appropriate compiler flags.\n",
      "2024-06-30 12:08:55.386393: W tensorflow/compiler/tf2tensorrt/utils/py_utils.cc:38] TF-TRT Warning: Could not find TensorRT\n"
     ]
    }
   ],
   "source": [
    "import tensorflow as tf\n",
    "import tensorflow.compat.v1 as tf1\n",
    "import math"
   ]
  },
  {
   "cell_type": "code",
   "execution_count": 10,
   "metadata": {},
   "outputs": [
    {
     "data": {
      "text/plain": [
       "'2.16.1'"
      ]
     },
     "execution_count": 10,
     "metadata": {},
     "output_type": "execute_result"
    }
   ],
   "source": [
    "tf.__version__"
   ]
  },
  {
   "cell_type": "code",
   "execution_count": 8,
   "metadata": {},
   "outputs": [],
   "source": [
    "def call_feature_columns(feature_columns, inputs):\n",
    "  # This is a convenient way to call a `feature_column` outside of an estimator\n",
    "  # to display its output.\n",
    "  feature_layer = tf.keras.layers.DenseFeatures(feature_columns)\n",
    "  return feature_layer(inputs)"
   ]
  },
  {
   "cell_type": "code",
   "execution_count": 3,
   "metadata": {},
   "outputs": [],
   "source": [
    "input_dict = {\n",
    "  'foo': tf.constant([1]),\n",
    "  'bar': tf.constant([0]),\n",
    "  'baz': tf.constant([-1])\n",
    "}"
   ]
  },
  {
   "cell_type": "code",
   "execution_count": 5,
   "metadata": {},
   "outputs": [],
   "source": [
    "columns = [\n",
    "  tf1.feature_column.numeric_column('foo'),\n",
    "  tf1.feature_column.numeric_column('bar'),\n",
    "  tf1.feature_column.numeric_column('baz'),\n",
    "]\n"
   ]
  },
  {
   "cell_type": "code",
   "execution_count": 9,
   "metadata": {},
   "outputs": [
    {
     "ename": "AttributeError",
     "evalue": "module 'keras._tf_keras.keras.layers' has no attribute 'DenseFeatures'",
     "output_type": "error",
     "traceback": [
      "\u001b[0;31m---------------------------------------------------------------------------\u001b[0m",
      "\u001b[0;31mAttributeError\u001b[0m                            Traceback (most recent call last)",
      "Cell \u001b[0;32mIn[9], line 1\u001b[0m\n\u001b[0;32m----> 1\u001b[0m call_feature_columns(columns, input_dict)\n",
      "Cell \u001b[0;32mIn[8], line 4\u001b[0m, in \u001b[0;36mcall_feature_columns\u001b[0;34m(feature_columns, inputs)\u001b[0m\n\u001b[1;32m      1\u001b[0m \u001b[38;5;28;01mdef\u001b[39;00m \u001b[38;5;21mcall_feature_columns\u001b[39m(feature_columns, inputs):\n\u001b[1;32m      2\u001b[0m   \u001b[38;5;66;03m# This is a convenient way to call a `feature_column` outside of an estimator\u001b[39;00m\n\u001b[1;32m      3\u001b[0m   \u001b[38;5;66;03m# to display its output.\u001b[39;00m\n\u001b[0;32m----> 4\u001b[0m   feature_layer \u001b[38;5;241m=\u001b[39m tf\u001b[38;5;241m.\u001b[39mkeras\u001b[38;5;241m.\u001b[39mlayers\u001b[38;5;241m.\u001b[39mDenseFeatures(feature_columns)\n\u001b[1;32m      5\u001b[0m   \u001b[38;5;28;01mreturn\u001b[39;00m feature_layer(inputs)\n",
      "\u001b[0;31mAttributeError\u001b[0m: module 'keras._tf_keras.keras.layers' has no attribute 'DenseFeatures'"
     ]
    }
   ],
   "source": [
    "call_feature_columns(columns, input_dict)"
   ]
  },
  {
   "cell_type": "markdown",
   "metadata": {},
   "source": [
    "Keras Model"
   ]
  },
  {
   "cell_type": "code",
   "execution_count": 12,
   "metadata": {},
   "outputs": [
    {
     "name": "stderr",
     "output_type": "stream",
     "text": [
      "/home/osboxes/anaconda3/lib/python3.11/site-packages/keras/src/models/functional.py:112: UserWarning: When providing `inputs` as a dict, all keys in the dict must match the names of the corresponding tensors. Received key 'foo' mapping to value <KerasTensor shape=(None,), dtype=float32, sparse=None, name=keras_tensor_6> which has name 'keras_tensor_6'. Change the tensor name to 'foo' (via `Input(..., name='foo')`)\n",
      "  warnings.warn(\n",
      "/home/osboxes/anaconda3/lib/python3.11/site-packages/keras/src/models/functional.py:112: UserWarning: When providing `inputs` as a dict, all keys in the dict must match the names of the corresponding tensors. Received key 'bar' mapping to value <KerasTensor shape=(None,), dtype=float32, sparse=None, name=keras_tensor_7> which has name 'keras_tensor_7'. Change the tensor name to 'bar' (via `Input(..., name='bar')`)\n",
      "  warnings.warn(\n",
      "/home/osboxes/anaconda3/lib/python3.11/site-packages/keras/src/models/functional.py:112: UserWarning: When providing `inputs` as a dict, all keys in the dict must match the names of the corresponding tensors. Received key 'baz' mapping to value <KerasTensor shape=(None,), dtype=float32, sparse=None, name=keras_tensor_8> which has name 'keras_tensor_8'. Change the tensor name to 'baz' (via `Input(..., name='baz')`)\n",
      "  warnings.warn(\n"
     ]
    },
    {
     "data": {
      "text/plain": [
       "<tf.Tensor: shape=(3,), dtype=float32, numpy=array([ 1.,  0., -1.], dtype=float32)>"
      ]
     },
     "execution_count": 12,
     "metadata": {},
     "output_type": "execute_result"
    }
   ],
   "source": [
    "inputs = {\n",
    "  'foo': tf.keras.Input(shape=()),\n",
    "  'bar': tf.keras.Input(shape=()),\n",
    "  'baz': tf.keras.Input(shape=()),\n",
    "}\n",
    "# Inputs are typically transformed by preprocessing layers before concatenation.\n",
    "inputs_list = list(inputs.values())\n",
    "outputs = tf.keras.layers.Concatenate()(inputs_list)\n",
    "model = tf.keras.Model(inputs=inputs, outputs=outputs)\n",
    "model(input_dict)"
   ]
  },
  {
   "cell_type": "code",
   "execution_count": 15,
   "metadata": {},
   "outputs": [
    {
     "data": {
      "text/plain": [
       "dict_values([<KerasTensor shape=(None,), dtype=float32, sparse=None, name=keras_tensor_6>, <KerasTensor shape=(None,), dtype=float32, sparse=None, name=keras_tensor_7>, <KerasTensor shape=(None,), dtype=float32, sparse=None, name=keras_tensor_8>])"
      ]
     },
     "execution_count": 15,
     "metadata": {},
     "output_type": "execute_result"
    }
   ],
   "source": [
    "inputs.values()"
   ]
  }
 ],
 "metadata": {
  "kernelspec": {
   "display_name": "base",
   "language": "python",
   "name": "python3"
  },
  "language_info": {
   "codemirror_mode": {
    "name": "ipython",
    "version": 3
   },
   "file_extension": ".py",
   "mimetype": "text/x-python",
   "name": "python",
   "nbconvert_exporter": "python",
   "pygments_lexer": "ipython3",
   "version": "3.11.9"
  }
 },
 "nbformat": 4,
 "nbformat_minor": 2
}
