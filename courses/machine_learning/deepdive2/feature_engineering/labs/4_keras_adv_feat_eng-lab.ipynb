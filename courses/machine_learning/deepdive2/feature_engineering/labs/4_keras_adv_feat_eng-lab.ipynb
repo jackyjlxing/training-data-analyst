{
 "cells": [
  {
   "cell_type": "markdown",
   "metadata": {},
   "source": [
    "# Advanced Feature Engineering in Keras \n",
    "\n",
    "## Learning Objectives\n",
    "\n",
    "1. Process temporal feature columns in Keras.\n",
    "2. Use Lambda layers to perform feature engineering on geolocation features.\n",
    "3. Create bucketized and crossed feature columns.\n",
    " \n",
    "\n",
    "## Introduction \n",
    "\n",
    "In this notebook, we use Keras to build a taxifare price prediction model and utilize feature engineering to improve the fare amount prediction for NYC taxi cab rides. \n",
    "\n",
    "Each learning objective will correspond to a __#TODO__ in this student lab notebook -- try to complete this notebook first and then review the [Solution Notebook](../solutions/4_keras_adv_feat_eng.ipynb) for reference. \n"
   ]
  },
  {
   "cell_type": "markdown",
   "metadata": {},
   "source": [
    "## Set up environment variables and load necessary libraries \n",
    "We will start by importing the necessary libraries for this lab."
   ]
  },
  {
   "cell_type": "code",
   "execution_count": 1,
   "metadata": {},
   "outputs": [],
   "source": [
    "#!sudo chown -R jupyter:jupyter /home/jupyter/training-data-analyst"
   ]
  },
  {
   "cell_type": "code",
   "execution_count": 2,
   "metadata": {},
   "outputs": [],
   "source": [
    "#!sudo apt-get install graphviz -y\n",
    "#!sudo -S apt-get install graphviz -y"
   ]
  },
  {
   "cell_type": "code",
   "execution_count": 3,
   "metadata": {},
   "outputs": [
    {
     "name": "stdout",
     "output_type": "stream",
     "text": [
      "Requirement already satisfied: pydot in /home/osboxes/anaconda3/lib/python3.11/site-packages (2.0.0)\n",
      "Requirement already satisfied: pyparsing>=3 in /home/osboxes/anaconda3/lib/python3.11/site-packages (from pydot) (3.0.9)\n"
     ]
    }
   ],
   "source": [
    "!pip install pydot"
   ]
  },
  {
   "cell_type": "code",
   "execution_count": 4,
   "metadata": {},
   "outputs": [
    {
     "name": "stderr",
     "output_type": "stream",
     "text": [
      "2024-07-06 19:44:47.067551: I external/local_tsl/tsl/cuda/cudart_stub.cc:32] Could not find cuda drivers on your machine, GPU will not be used.\n",
      "2024-07-06 19:44:47.307345: I external/local_tsl/tsl/cuda/cudart_stub.cc:32] Could not find cuda drivers on your machine, GPU will not be used.\n",
      "2024-07-06 19:44:48.103123: I tensorflow/core/platform/cpu_feature_guard.cc:210] This TensorFlow binary is optimized to use available CPU instructions in performance-critical operations.\n",
      "To enable the following instructions: AVX2, in other operations, rebuild TensorFlow with the appropriate compiler flags.\n",
      "2024-07-06 19:44:50.109834: W tensorflow/compiler/tf2tensorrt/utils/py_utils.cc:38] TF-TRT Warning: Could not find TensorRT\n"
     ]
    },
    {
     "name": "stdout",
     "output_type": "stream",
     "text": [
      "2.16.1\n"
     ]
    }
   ],
   "source": [
    "import datetime\n",
    "import logging\n",
    "import os\n",
    "\n",
    "import matplotlib.pyplot as plt\n",
    "import numpy as np\n",
    "import tensorflow as tf\n",
    "\n",
    "from tensorflow import feature_column as fc\n",
    "from tensorflow.keras import layers\n",
    "from tensorflow.keras import models\n",
    "\n",
    "import pydot\n",
    "\n",
    "# set TF error log verbosity\n",
    "logging.getLogger(\"tensorflow\").setLevel(logging.ERROR)\n",
    "\n",
    "print(tf.version.VERSION)"
   ]
  },
  {
   "cell_type": "markdown",
   "metadata": {},
   "source": [
    "## Load taxifare dataset\n",
    "\n",
    "The Taxi Fare dataset for this lab is 106,545 rows and has been pre-processed and split for use in this lab.  Note that the dataset is the same as used in the Big Query feature engineering labs.  The fare_amount is the target, the continuous value we’ll train a model to predict.  \n",
    "\n",
    "First, let's download the  .csv data by copying the data from a cloud storage bucket."
   ]
  },
  {
   "cell_type": "code",
   "execution_count": 5,
   "metadata": {},
   "outputs": [],
   "source": [
    "#if not os.path.isdir(\"../data\"):\n",
    "#    os.makedirs(\"../data\")"
   ]
  },
  {
   "cell_type": "code",
   "execution_count": 6,
   "metadata": {},
   "outputs": [],
   "source": [
    "# The `gsutil cp` command allows you to copy data between the bucket and current directory.\n",
    "#!gsutil cp gs://cloud-training/mlongcp/v3.0_MLonGC/toy_data/taxi-train1_toy.csv ../data\n",
    "#!gsutil cp gs://cloud-training/mlongcp/v3.0_MLonGC/toy_data/taxi-valid1_toy.csv ../data\n"
   ]
  },
  {
   "cell_type": "markdown",
   "metadata": {},
   "source": [
    "Let's check that the files were copied correctly and look like we expect them to."
   ]
  },
  {
   "cell_type": "code",
   "execution_count": 7,
   "metadata": {},
   "outputs": [
    {
     "name": "stdout",
     "output_type": "stream",
     "text": [
      "-rw-rw-r-- 1 osboxes osboxes  142150 Jun 29 13:09 ../../../data/housing_pre-proc_toy.csv\n",
      "-rw-rw-r-- 1 osboxes osboxes   28071 Jun 29 13:14 ../../../data/housing-test.csv\n",
      "-rw-rw-r-- 1 osboxes osboxes   89597 Jun 29 13:13 ../../../data/housing-train.csv\n",
      "-rw-rw-r-- 1 osboxes osboxes   22441 Jun 29 13:14 ../../../data/housing-val.csv\n",
      "-rw-rw-r-- 1 osboxes osboxes 1756557 Jul  1 17:20 ../../../data/taxi-train1_toy.csv\n",
      "-rw-rw-r-- 1 osboxes osboxes  446676 Jul  1 17:20 ../../../data/taxi-valid1_toy.csv\n",
      "-rw-rw-r-- 1 osboxes osboxes  141449 Jun 11 21:23 ../../../data/traffic-taxi-test.csv\n",
      "-rw-rw-r-- 1 osboxes osboxes  662312 Jun 11 21:23 ../../../data/traffic-taxi-train.csv\n",
      "-rw-rw-r-- 1 osboxes osboxes  141062 Jun 11 21:23 ../../../data/traffic-taxi-valid.csv\n"
     ]
    }
   ],
   "source": [
    "!ls -l ../../../data/*.csv"
   ]
  },
  {
   "cell_type": "code",
   "execution_count": 8,
   "metadata": {},
   "outputs": [
    {
     "name": "stdout",
     "output_type": "stream",
     "text": [
      "==> ../../../data/taxi-train1_toy.csv <==\n",
      "fare_amount,passenger_count,pickup_longitude,pickup_latitude,dropoff_longitude,dropoff_latitude,hourofday,dayofweek\n",
      "8.1,1,-73.973731,40.791909999999994,-73.962737,40.767317999999996,14,4\n",
      "4.5,2,-73.98649499999999,40.739278000000006,-73.986083,40.730933,10,6\n",
      "2.9,1,-73.95604300000001,40.772026000000004,-73.956245,40.773934000000004,22,3\n",
      "7.0,1,-74.006557,40.705797,-73.980017,40.713617,6,3\n",
      "6.5,1,-73.98644300000001,40.741611999999996,-73.990215,40.746466999999996,10,2\n",
      "15.0,1,-73.96014404,40.7789917,-73.98536682,40.73873138,17,6\n",
      "5.5,1,-73.981625,40.74957,-73.97639000000001,40.754807,18,0\n",
      "9.0,3,-73.99884,40.734719,-73.978865,40.72422,21,1\n",
      "14.0,2,-73.986827,40.742839000000004,-73.94695899999999,40.780063,19,1\n",
      "\n",
      "==> ../../../data/taxi-valid1_toy.csv <==\n",
      "fare_amount,passenger_count,pickup_longitude,pickup_latitude,dropoff_longitude,dropoff_latitude,hourofday,dayofweek\n",
      "15.5,3,-73.98902199999999,40.718837,-73.974645,40.761427000000005,18,3\n",
      "7.5,1,-73.97336578,40.76422882,-73.98596954,40.75464249,20,0\n",
      "3.3,2,-73.961372,40.760443,-73.956565,40.767154999999995,2,6\n",
      "13.5,6,-73.989437,40.757082000000004,-73.98344200000001,40.725312,18,4\n",
      "7.5,2,-73.981992,40.740312,-73.965375,40.752895,13,4\n",
      "7.3,1,-73.99553,40.759465000000006,-73.978126,40.752683000000005,20,2\n",
      "13.5,5,-73.99021149,40.75678253,-73.95141602,40.7700119,7,3\n",
      "6.1,1,-74.005032,40.72971,-73.985805,40.722916999999995,19,4\n",
      "10.0,6,-73.95796800000001,40.765155,-73.960672,40.781222,12,1\n"
     ]
    }
   ],
   "source": [
    "!head ../../../data/t*toy.csv"
   ]
  },
  {
   "cell_type": "markdown",
   "metadata": {},
   "source": [
    "## Create an input pipeline \n",
    "\n",
    "Typically, you will use a two step process to build the pipeline. Step one is to define the columns of data; i.e., which column we're predicting for, and the default values.  Step 2 is to define two functions - a function to define the features and label you want to use and a function to load the training data.  Also, note that pickup_datetime is a string and we will need to handle this in our feature engineered model.  \n"
   ]
  },
  {
   "cell_type": "code",
   "execution_count": 9,
   "metadata": {},
   "outputs": [],
   "source": [
    "CSV_COLUMNS = [\n",
    "    'fare_amount',\n",
    "    'pickup_datetime',\n",
    "    'pickup_longitude',\n",
    "    'pickup_latitude',\n",
    "    'dropoff_longitude',\n",
    "    'dropoff_latitude',\n",
    "    'passenger_count',\n",
    "    'key',\n",
    "]\n",
    "LABEL_COLUMN = 'fare_amount'\n",
    "STRING_COLS = ['pickup_datetime']\n",
    "NUMERIC_COLS = ['pickup_longitude', 'pickup_latitude',\n",
    "                'dropoff_longitude', 'dropoff_latitude',\n",
    "                'passenger_count']\n",
    "DEFAULTS = [[0.0], ['na'], [0.0], [0.0], [0.0], [0.0], [0.0], ['na']]\n",
    "DAYS = ['Sun', 'Mon', 'Tue', 'Wed', 'Thu', 'Fri', 'Sat']"
   ]
  },
  {
   "cell_type": "code",
   "execution_count": 10,
   "metadata": {},
   "outputs": [],
   "source": [
    "# A function to define features and labesl\n",
    "def features_and_labels(row_data):\n",
    "    for unwanted_col in ['key']:\n",
    "        row_data.pop(unwanted_col)\n",
    "    label = row_data.pop(LABEL_COLUMN)\n",
    "    return row_data, label\n",
    "\n",
    "\n",
    "# A utility method to create a tf.data dataset from a Pandas Dataframe\n",
    "def load_dataset(pattern, batch_size=1, mode='eval'):\n",
    "    dataset = tf.data.experimental.make_csv_dataset(pattern,\n",
    "                                                    batch_size,\n",
    "                                                    CSV_COLUMNS,\n",
    "                                                    DEFAULTS)\n",
    "    dataset = dataset.map(features_and_labels)  # features, label\n",
    "    if mode == 'train':\n",
    "        dataset = dataset.shuffle(1000).repeat()\n",
    "        # take advantage of multi-threading; 1=AUTOTUNE\n",
    "        dataset = dataset.prefetch(1)\n",
    "    return dataset"
   ]
  },
  {
   "cell_type": "markdown",
   "metadata": {},
   "source": [
    "## Create a Baseline DNN Model in Keras\n",
    "\n",
    "Now let's build the Deep Neural Network (DNN) model in Keras using the functional API. Unlike the sequential API, we will need to specify the input and hidden layers.  Note that we are creating a linear regression baseline model with no feature engineering. Recall that a baseline model is a solution to a problem without applying any machine learning techniques."
   ]
  },
  {
   "cell_type": "code",
   "execution_count": 11,
   "metadata": {},
   "outputs": [],
   "source": [
    "# # Build a simple Keras DNN using its Functional API\n",
    "# def rmse(y_true, y_pred):  # Root mean square error\n",
    "#     return tf.sqrt(tf.reduce_mean(tf.square(y_pred - y_true)))\n",
    "\n",
    "\n",
    "# def build_dnn_model():\n",
    "#     # input layer\n",
    "#     inputs = {\n",
    "#         colname: layers.Input(name=colname, shape=(), dtype='float32')\n",
    "#         for colname in NUMERIC_COLS\n",
    "#     }\n",
    "\n",
    "#     # feature_columns\n",
    "#     feature_columns = {\n",
    "#         colname: fc.numeric_column(colname)\n",
    "#         for colname in NUMERIC_COLS\n",
    "#     }\n",
    "\n",
    "#     # Constructor for DenseFeatures takes a list of numeric columns\n",
    "#     dnn_inputs = layers.DenseFeatures(feature_columns.values())(inputs)\n",
    "\n",
    "#     # two hidden layers of [32, 8] just in like the BQML DNN\n",
    "#     h1 = layers.Dense(32, activation='relu', name='h1')(dnn_inputs)\n",
    "#     h2 = layers.Dense(8, activation='relu', name='h2')(h1)\n",
    "\n",
    "#     # final output is a linear activation because this is regression\n",
    "#     output = layers.Dense(1, activation='linear', name='fare')(h2)\n",
    "#     model = models.Model(inputs, output)\n",
    "\n",
    "#     # compile model\n",
    "#     model.compile(optimizer='adam', loss='mse', metrics=[rmse, 'mse'])\n",
    "\n",
    "#     return model"
   ]
  },
  {
   "cell_type": "code",
   "execution_count": 12,
   "metadata": {},
   "outputs": [],
   "source": [
    "#migrate to tensorflow v2.16\n",
    "# Build a simple Keras DNN using its Functional API\n",
    "# def rmse(y_true, y_pred):  # Root mean square error\n",
    "#     return tf.sqrt(tf.reduce_mean(tf.square(y_pred - y_true)))\n",
    "\n",
    "\n",
    "def build_dnn_model1():\n",
    "    # input layer\n",
    "    # inputs = {\n",
    "    #     colname: layers.Input(name=colname, shape=(1,), dtype='float32')\n",
    "    #     for colname in NUMERIC_COLS\n",
    "    # }\n",
    "    inputs = [\n",
    "    layers.Input(name=colname, shape=(1,), dtype='float32')\n",
    "    for colname in NUMERIC_COLS\n",
    "    ]\n",
    "\n",
    "    # feature_columns\n",
    "    # feature_columns = {\n",
    "    #     colname: fc.numeric_column(colname)\n",
    "    #     for colname in NUMERIC_COLS\n",
    "    # }\n",
    "    #logging.error('test')\n",
    "    # Constructor for DenseFeatures takes a list of numeric columns\n",
    "    # dnn_inputs = layers.Concatenate()(list(inputs.values()))\n",
    "    dnn_inputs = layers.Concatenate()(inputs)\n",
    "\n",
    "    # debug info\n",
    "    # print('inputs type: ', type(inputs))\n",
    "    # print('inputs value type: ', type(inputs.values()))\n",
    "    # print('dnn_inputs value type: ', type(dnn_inputs))\n",
    "\n",
    "    # two hidden layers of [32, 8] just in like the BQML DNN\n",
    "    h1 = layers.Dense(32, activation='relu', name='h1')(dnn_inputs)\n",
    "    h2 = layers.Dense(8, activation='relu', name='h2')(h1)\n",
    "\n",
    "    # final output is a linear activation because this is regression\n",
    "    output = layers.Dense(1, activation='linear', name='fare')(h2)\n",
    "    model = models.Model(inputs, output)\n",
    "\n",
    "    # compile model\n",
    "    model.compile(optimizer='adam', loss='mse', metrics=['root_mean_squared_error', 'mse'])\n",
    "\n",
    "    return model"
   ]
  },
  {
   "cell_type": "markdown",
   "metadata": {},
   "source": [
    "We'll build our DNN model and inspect the model architecture."
   ]
  },
  {
   "cell_type": "code",
   "execution_count": 13,
   "metadata": {},
   "outputs": [
    {
     "name": "stdout",
     "output_type": "stream",
     "text": [
      "2.0.0\n"
     ]
    }
   ],
   "source": [
    "print(pydot.__version__)"
   ]
  },
  {
   "cell_type": "code",
   "execution_count": 14,
   "metadata": {},
   "outputs": [
    {
     "data": {
      "image/png": "[encoded data removed]",
      "text/plain": [
       "<IPython.core.display.Image object>"
      ]
     },
     "execution_count": 14,
     "metadata": {},
     "output_type": "execute_result"
    }
   ],
   "source": [
    "model = build_dnn_model1()\n",
    "\n",
    "# We can visualize the DNN using the Keras `plot_model` utility.\n",
    "tf.keras.utils.plot_model(model, 'dnn_model.png', show_shapes=False, rankdir='LR')"
   ]
  },
  {
   "cell_type": "markdown",
   "metadata": {},
   "source": [
    "## Train the model\n",
    "\n",
    "To train the model, simply call [model.fit()](https://keras.io/models/model/#fit).  Note that we should really use many more NUM_TRAIN_EXAMPLES (i.e. a larger dataset). We shouldn't make assumptions about the quality of the model based on training/evaluating it on a small sample of the full data.\n",
    "\n",
    "We start by setting up the environment variables for training, creating the input pipeline datasets, and then train our baseline DNN model."
   ]
  },
  {
   "cell_type": "code",
   "execution_count": 15,
   "metadata": {},
   "outputs": [
    {
     "name": "stdout",
     "output_type": "stream",
     "text": [
      "  29500 ../../../data/taxi-train1_toy.csv\n",
      "   7500 ../../../data/taxi-valid1_toy.csv\n",
      "  37000 total\n"
     ]
    }
   ],
   "source": [
    "!wc -l  ../../../data/taxi*toy.csv"
   ]
  },
  {
   "cell_type": "code",
   "execution_count": 16,
   "metadata": {},
   "outputs": [],
   "source": [
    "TRAIN_BATCH_SIZE = 32 \n",
    "NUM_TRAIN_EXAMPLES = 59621 * 5\n",
    "NUM_EVALS = 5\n",
    "NUM_EVAL_EXAMPLES = 14906"
   ]
  },
  {
   "cell_type": "code",
   "execution_count": 17,
   "metadata": {},
   "outputs": [
    {
     "name": "stdout",
     "output_type": "stream",
     "text": [
      "trainds: <_PrefetchDataset element_spec=(OrderedDict([('pickup_datetime', TensorSpec(shape=(32,), dtype=tf.string, name=None)), ('pickup_longitude', TensorSpec(shape=(32,), dtype=tf.float32, name=None)), ('pickup_latitude', TensorSpec(shape=(32,), dtype=tf.float32, name=None)), ('dropoff_longitude', TensorSpec(shape=(32,), dtype=tf.float32, name=None)), ('dropoff_latitude', TensorSpec(shape=(32,), dtype=tf.float32, name=None)), ('passenger_count', TensorSpec(shape=(32,), dtype=tf.float32, name=None))]), TensorSpec(shape=(32,), dtype=tf.float32, name=None))>\n",
      "evalds:  <_TakeDataset element_spec=(OrderedDict([('pickup_datetime', TensorSpec(shape=(1000,), dtype=tf.string, name=None)), ('pickup_longitude', TensorSpec(shape=(1000,), dtype=tf.float32, name=None)), ('pickup_latitude', TensorSpec(shape=(1000,), dtype=tf.float32, name=None)), ('dropoff_longitude', TensorSpec(shape=(1000,), dtype=tf.float32, name=None)), ('dropoff_latitude', TensorSpec(shape=(1000,), dtype=tf.float32, name=None)), ('passenger_count', TensorSpec(shape=(1000,), dtype=tf.float32, name=None))]), TensorSpec(shape=(1000,), dtype=tf.float32, name=None))>\n",
      "Epoch 1/5\n",
      "\u001b[1m1863/1863\u001b[0m \u001b[32m━━━━━━━━━━━━━━━━━━━━\u001b[0m\u001b[37m\u001b[0m \u001b[1m4s\u001b[0m 1ms/step - loss: 120.1495 - mse: 120.1495 - root_mean_squared_error: 10.8763 - val_loss: 97.9799 - val_mse: 97.9799 - val_root_mean_squared_error: 9.8985\n",
      "Epoch 2/5\n",
      "\u001b[1m1863/1863\u001b[0m \u001b[32m━━━━━━━━━━━━━━━━━━━━\u001b[0m\u001b[37m\u001b[0m \u001b[1m2s\u001b[0m 1ms/step - loss: 97.8186 - mse: 97.8186 - root_mean_squared_error: 9.8897 - val_loss: 97.7965 - val_mse: 97.7965 - val_root_mean_squared_error: 9.8892\n",
      "Epoch 3/5\n",
      "\u001b[1m1863/1863\u001b[0m \u001b[32m━━━━━━━━━━━━━━━━━━━━\u001b[0m\u001b[37m\u001b[0m \u001b[1m3s\u001b[0m 2ms/step - loss: 104.7650 - mse: 104.7650 - root_mean_squared_error: 10.2331 - val_loss: 97.9483 - val_mse: 97.9483 - val_root_mean_squared_error: 9.8969\n",
      "Epoch 4/5\n",
      "\u001b[1m1863/1863\u001b[0m \u001b[32m━━━━━━━━━━━━━━━━━━━━\u001b[0m\u001b[37m\u001b[0m \u001b[1m2s\u001b[0m 1ms/step - loss: 100.5750 - mse: 100.5750 - root_mean_squared_error: 10.0278 - val_loss: 98.9078 - val_mse: 98.9078 - val_root_mean_squared_error: 9.9452\n",
      "Epoch 5/5\n",
      "\u001b[1m1863/1863\u001b[0m \u001b[32m━━━━━━━━━━━━━━━━━━━━\u001b[0m\u001b[37m\u001b[0m \u001b[1m3s\u001b[0m 1ms/step - loss: 98.1622 - mse: 98.1622 - root_mean_squared_error: 9.9036 - val_loss: 98.8794 - val_mse: 98.8794 - val_root_mean_squared_error: 9.9438\n"
     ]
    }
   ],
   "source": [
    "trainds = load_dataset('../../../data/taxi-train*',\n",
    "                       TRAIN_BATCH_SIZE,\n",
    "                       'train')\n",
    "evalds = load_dataset('../../../data/taxi-valid*',\n",
    "                      1000,\n",
    "                      'eval').take(NUM_EVAL_EXAMPLES//1000)\n",
    "\n",
    "print('trainds:',trainds)\n",
    "print('evalds: ',evalds)\n",
    "\n",
    "steps_per_epoch = NUM_TRAIN_EXAMPLES // (TRAIN_BATCH_SIZE * NUM_EVALS)\n",
    "\n",
    "history = model.fit(trainds,\n",
    "                    validation_data=evalds,\n",
    "                    epochs=NUM_EVALS,\n",
    "                    steps_per_epoch=steps_per_epoch)"
   ]
  },
  {
   "cell_type": "markdown",
   "metadata": {},
   "source": [
    "### Visualize the model loss curve\n",
    "\n",
    "Next, we will use matplotlib to draw the model's loss curves for training and validation.  A line plot is also created showing the mean squared error loss over the training epochs for both the train (blue) and test (orange) sets."
   ]
  },
  {
   "cell_type": "code",
   "execution_count": 18,
   "metadata": {},
   "outputs": [],
   "source": [
    "def plot_curves(history, metrics):\n",
    "    nrows = 1\n",
    "    ncols = 3\n",
    "    fig = plt.figure(figsize=(10, 5))\n",
    "\n",
    "    for idx, key in enumerate(metrics):  \n",
    "        ax = fig.add_subplot(nrows, ncols, idx+1)\n",
    "        plt.plot(history.history[key])\n",
    "        plt.plot(history.history['val_{}'.format(key)])\n",
    "        plt.title('model {}'.format(key))\n",
    "        plt.ylabel(key)\n",
    "        plt.xlabel('epoch')\n",
    "        plt.legend(['train', 'validation'], loc='upper left');    "
   ]
  },
  {
   "cell_type": "code",
   "execution_count": 19,
   "metadata": {},
   "outputs": [
    {
     "name": "stdout",
     "output_type": "stream",
     "text": [
      "[104.5516586303711, 100.09122467041016, 103.10521697998047, 98.916015625, 101.9698715209961]\n",
      "dict_keys(['loss', 'mse', 'root_mean_squared_error', 'val_loss', 'val_mse', 'val_root_mean_squared_error'])\n"
     ]
    }
   ],
   "source": [
    "enumerate(['loss', 'mse','root_mean_squared_error'])\n",
    "print(history.history['loss'])\n",
    "print(history.history.keys())"
   ]
  },
  {
   "cell_type": "code",
   "execution_count": 20,
   "metadata": {},
   "outputs": [
    {
     "data": {
      "image/png": "[encoded data removed]",
      "text/plain": [
       "<Figure size 1000x500 with 3 Axes>"
      ]
     },
     "metadata": {},
     "output_type": "display_data"
    }
   ],
   "source": [
    "plot_curves(history, ['loss', 'mse','root_mean_squared_error'])"
   ]
  },
  {
   "cell_type": "markdown",
   "metadata": {},
   "source": [
    "### Predict with the model locally\n",
    "\n",
    "To predict with Keras, you simply call [model.predict()](https://keras.io/models/model/#predict) and pass in the cab ride you want to predict the fare amount for.  Next we note the fare price at this geolocation and pickup_datetime."
   ]
  },
  {
   "cell_type": "code",
   "execution_count": 21,
   "metadata": {},
   "outputs": [
    {
     "name": "stdout",
     "output_type": "stream",
     "text": [
      "\u001b[1m1/1\u001b[0m \u001b[32m━━━━━━━━━━━━━━━━━━━━\u001b[0m\u001b[37m\u001b[0m \u001b[1m0s\u001b[0m 85ms/step\n"
     ]
    },
    {
     "data": {
      "text/plain": [
       "array([[12.090085]], dtype=float32)"
      ]
     },
     "execution_count": 21,
     "metadata": {},
     "output_type": "execute_result"
    }
   ],
   "source": [
    "model.predict({\n",
    "    'pickup_longitude': tf.convert_to_tensor([-73.982683]),\n",
    "    'pickup_latitude': tf.convert_to_tensor([40.742104]),\n",
    "    'dropoff_longitude': tf.convert_to_tensor([-73.983766]),\n",
    "    'dropoff_latitude': tf.convert_to_tensor([40.755174]),\n",
    "    'passenger_count': tf.convert_to_tensor([3.0]),\n",
    "    'pickup_datetime': tf.convert_to_tensor(['2010-02-08 09:17:00 UTC'], dtype=tf.string),\n",
    "}, steps=1)"
   ]
  },
  {
   "cell_type": "markdown",
   "metadata": {},
   "source": [
    "## Improve Model Performance Using Feature Engineering \n",
    "\n",
    "We now improve our model's performance by creating the following feature engineering types:  Temporal, Categorical, and Geolocation. "
   ]
  },
  {
   "cell_type": "markdown",
   "metadata": {},
   "source": [
    "### Temporal Feature Columns\n",
    "\n",
    "**Lab Task #1**: Processing temporal feature columns in Keras"
   ]
  },
  {
   "cell_type": "markdown",
   "metadata": {},
   "source": [
    "We incorporate the temporal feature pickup_datetime.  As noted earlier, pickup_datetime is a string and we will need to handle this within the model.  First, you will include the pickup_datetime as a feature and then you will need to modify the model to handle our string feature."
   ]
  },
  {
   "cell_type": "code",
   "execution_count": 22,
   "metadata": {},
   "outputs": [
    {
     "data": {
      "text/plain": [
       "<_TakeDataset element_spec=(OrderedDict([('pickup_datetime', TensorSpec(shape=(32,), dtype=tf.string, name=None)), ('pickup_longitude', TensorSpec(shape=(32,), dtype=tf.float32, name=None)), ('pickup_latitude', TensorSpec(shape=(32,), dtype=tf.float32, name=None)), ('dropoff_longitude', TensorSpec(shape=(32,), dtype=tf.float32, name=None)), ('dropoff_latitude', TensorSpec(shape=(32,), dtype=tf.float32, name=None)), ('passenger_count', TensorSpec(shape=(32,), dtype=tf.float32, name=None))]), TensorSpec(shape=(32,), dtype=tf.float32, name=None))>"
      ]
     },
     "execution_count": 22,
     "metadata": {},
     "output_type": "execute_result"
    }
   ],
   "source": [
    "trainds.take(1)"
   ]
  },
  {
   "cell_type": "code",
   "execution_count": 23,
   "metadata": {},
   "outputs": [],
   "source": [
    "# TODO 1a - Your code here\n",
    "# parse string to datetime object\n",
    "def parse_datetime(s):\n",
    "    if s is not str:\n",
    "        s.numpy().decode('utf-8')\n",
    "    return datetime.datetime.strptime(s,'%Y-%m-%d %H:%M:%S %Z')\n",
    "\n",
    "# TODO 1b - Your code here\n",
    "# retrun 'MON', 'TUE' etc from one datatime object\n",
    "def get_dayofweek(s):\n",
    "    ts = parse_datetime(s)\n",
    "    return DAYS[ts.weekday]\n",
    "\n",
    "# TODO 1c - Your code here\n",
    "#get day of week from datatime object list. \n",
    "@tf.function\n",
    "def dayofweek(ts_in):\n",
    "    return tf.map_fn(\n",
    "        lambda s: tf.py_function(get_dayofweek, inp=[s], Tout=tf.string), \n",
    "        ts_in\n",
    "    )"
   ]
  },
  {
   "cell_type": "markdown",
   "metadata": {},
   "source": [
    "### Geolocation/Coordinate Feature Columns\n",
    "\n",
    "The pick-up/drop-off longitude and latitude data are crucial to predicting the fare amount as fare amounts in NYC taxis are largely determined by the distance traveled. As such, we need to teach the model the Euclidean distance between the pick-up and drop-off points.\n",
    "\n",
    "Recall that latitude and longitude allows us to specify any location on Earth using a set of coordinates. In our training data set, we restricted our data points to only pickups and drop offs within NYC. New York city has an approximate longitude range of -74.05 to -73.75 and a latitude range of 40.63 to 40.85.\n",
    "\n",
    "#### Computing Euclidean distance\n",
    "The dataset contains information regarding the pickup and drop off coordinates. However, there is no information regarding the distance between the pickup and drop off points. Therefore, we create a new feature that calculates the distance between each pair of pickup and drop off points. We can do this using the Euclidean Distance, which is the straight-line distance between any two coordinate points."
   ]
  },
  {
   "cell_type": "code",
   "execution_count": 24,
   "metadata": {},
   "outputs": [],
   "source": [
    "def euclidean(params):\n",
    "    lon1, lat1, lon2, lat2 = params\n",
    "    londiff = lon2 - lon1\n",
    "    latdiff = lat2 - lat1\n",
    "    return tf.sqrt(londiff*londiff + latdiff*latdiff)"
   ]
  },
  {
   "cell_type": "markdown",
   "metadata": {},
   "source": [
    "#### Scaling latitude and longitude\n",
    "\n",
    "It is very important for numerical variables to get scaled before they are \"fed\" into the neural network. Here we use min-max scaling (also called normalization) on the geolocation features.  Later in our model, you will see that these values are shifted and rescaled so that they end up ranging from 0 to 1.\n",
    "\n",
    "First, we create a function named 'scale_longitude', where we pass in all the longitudinal values and add 78 to each value.  Note that our scaling longitude ranges from -70 to -78. Thus, the value 78 is the maximum longitudinal value.  The delta or difference between -70 and -78 is 8.  We add 78 to each longitudinal value and then divide by 8 to return a scaled value."
   ]
  },
  {
   "cell_type": "code",
   "execution_count": 25,
   "metadata": {},
   "outputs": [
    {
     "name": "stdout",
     "output_type": "stream",
     "text": [
      "(OrderedDict([('pickup_datetime', <tf.Tensor: shape=(32,), dtype=string, numpy=\n",
      "array([b'1', b'1', b'1', b'2', b'2', b'2', b'2', b'1', b'5', b'1', b'1',\n",
      "       b'1', b'5', b'1', b'2', b'1', b'1', b'1', b'1', b'1', b'1', b'1',\n",
      "       b'2', b'6', b'1', b'1', b'1', b'1', b'1', b'2', b'1', b'1'],\n",
      "      dtype=object)>), ('pickup_longitude', <tf.Tensor: shape=(32,), dtype=float32, numpy=\n",
      "array([-73.94439 , -73.98762 , -73.973076, -73.96005 , -73.99051 ,\n",
      "       -73.95358 , -73.987045, -73.97318 , -73.97075 , -73.96793 ,\n",
      "       -73.989204, -73.991806, -73.95442 , -74.00568 , -74.004364,\n",
      "       -73.95062 , -73.99392 , -73.97736 , -73.987686, -73.96693 ,\n",
      "       -73.98805 , -73.99651 , -73.98664 , -73.99381 , -73.96682 ,\n",
      "       -73.98021 , -73.968575, -73.99409 , -73.98737 , -73.992805,\n",
      "       -73.97976 , -74.00394 ], dtype=float32)>), ('pickup_latitude', <tf.Tensor: shape=(32,), dtype=float32, numpy=\n",
      "array([40.794903, 40.73854 , 40.765068, 40.7703  , 40.7342  , 40.77551 ,\n",
      "       40.722443, 40.756348, 40.75801 , 40.760582, 40.747974, 40.726025,\n",
      "       40.77437 , 40.73708 , 40.72428 , 40.771683, 40.727   , 40.74638 ,\n",
      "       40.72464 , 40.793667, 40.76713 , 40.753212, 40.740234, 40.746597,\n",
      "       40.794056, 40.783768, 40.75637 , 40.69085 , 40.76615 , 40.743004,\n",
      "       40.759907, 40.725613], dtype=float32)>), ('dropoff_longitude', <tf.Tensor: shape=(32,), dtype=float32, numpy=\n",
      "array([-73.94738 , -73.97182 , -73.97523 , -73.95654 , -73.99612 ,\n",
      "       -73.9166  , -73.95229 , -73.97975 , -73.9961  , -73.97306 ,\n",
      "       -73.97809 , -74.005066, -73.97948 , -73.998634, -73.889565,\n",
      "       -73.97869 , -73.9881  , -73.97236 , -73.98938 , -73.96666 ,\n",
      "       -74.01447 , -74.00508 , -74.008804, -73.97377 , -73.9686  ,\n",
      "       -73.96564 , -73.98079 , -73.99672 , -73.98343 , -73.99133 ,\n",
      "       -73.971085, -73.98255 ], dtype=float32)>), ('dropoff_latitude', <tf.Tensor: shape=(32,), dtype=float32, numpy=\n",
      "array([40.722828, 40.763405, 40.75791 , 40.77563 , 40.726204, 40.74424 ,\n",
      "       40.78055 , 40.780407, 40.737083, 40.762165, 40.744286, 40.7356  ,\n",
      "       40.764454, 40.745102, 40.747272, 40.783497, 40.745914, 40.761368,\n",
      "       40.730167, 40.77307 , 40.715458, 40.74112 , 40.71894 , 40.743446,\n",
      "       40.7864  , 40.771606, 40.741158, 40.72327 , 40.74368 , 40.770226,\n",
      "       40.74824 , 40.771587], dtype=float32)>), ('passenger_count', <tf.Tensor: shape=(32,), dtype=float32, numpy=\n",
      "array([ 7., 19.,  7., 23., 18.,  1., 11., 19.,  0., 20.,  5.,  6., 21.,\n",
      "       16., 14.,  6.,  4., 20., 11., 14., 20., 19., 19., 15., 11., 13.,\n",
      "       15.,  7., 20., 15., 20.,  2.], dtype=float32)>)]), <tf.Tensor: shape=(32,), dtype=float32, numpy=\n",
      "array([36. , 10. ,  5.5,  4. ,  4.5, 11.3, 13.3, 10.1, 16.1,  3.5, 12.5,\n",
      "        6.1, 11. ,  4.1, 20.1,  9. ,  8.5,  7.5,  4. ,  8.5, 15.5,  5.3,\n",
      "       15. ,  7.5,  3.7, 11.5,  8.5, 10.5, 10.5, 12.5,  7.3, 14.1],\n",
      "      dtype=float32)>)\n"
     ]
    },
    {
     "name": "stderr",
     "output_type": "stream",
     "text": [
      "2024-07-06 19:45:10.679154: W tensorflow/core/framework/local_rendezvous.cc:404] Local rendezvous is aborting with status: OUT_OF_RANGE: End of sequence\n"
     ]
    }
   ],
   "source": [
    "for element in trainds.take(1):\n",
    "    print(element)"
   ]
  },
  {
   "cell_type": "code",
   "execution_count": 26,
   "metadata": {},
   "outputs": [],
   "source": [
    "def scale_longitude(lon_column):\n",
    "    return (lon_column + 78)/8."
   ]
  },
  {
   "cell_type": "markdown",
   "metadata": {},
   "source": [
    "Next, we create a function named 'scale_latitude', where we pass in all the latitudinal values and subtract 37 from each value.  Note that our scaling latitude ranges from -37 to -45. Thus, the value 37 is the minimal latitudinal value.  The delta or difference between -37 and -45 is 8.  We subtract 37 from each latitudinal value and then divide by 8 to return a scaled value."
   ]
  },
  {
   "cell_type": "code",
   "execution_count": 27,
   "metadata": {},
   "outputs": [],
   "source": [
    "def scale_latitude(lat_column):\n",
    "    return (lat_column - 37)/8."
   ]
  },
  {
   "cell_type": "markdown",
   "metadata": {},
   "source": [
    "### Putting it all together\n",
    "We will create a function called \"euclidean\" to initialize our geolocation parameters. We then create a function called transform. The transform function passes our numerical and string column features as inputs to the model, scales geolocation features, then creates the Euclidean distance as a transformed variable with the geolocation features. Lastly, we bucketize the latitude and longitude features."
   ]
  },
  {
   "cell_type": "markdown",
   "metadata": {},
   "source": [
    "**Lab Task #2:** We will use Lambda layers to create two new \"geo\" functions for our model."
   ]
  },
  {
   "cell_type": "markdown",
   "metadata": {},
   "source": [
    "**Lab Task #3:** Creating the bucketized and crossed feature columns"
   ]
  },
  {
   "cell_type": "code",
   "execution_count": 28,
   "metadata": {},
   "outputs": [],
   "source": [
    "# def transform(inputs, numeric_cols, string_cols, nbuckets):\n",
    "#     print(\"Inputs before features transformation: {}\".format(inputs.keys()))\n",
    "\n",
    "#     # Pass-through columns\n",
    "#     transformed = inputs.copy()\n",
    "#     del transformed['pickup_datetime']\n",
    "\n",
    "#     feature_columns = {\n",
    "#         colname: tf.feature_column.numeric_column(colname)\n",
    "#         for colname in numeric_cols\n",
    "#     }\n",
    "\n",
    "#     # Scaling longitude from range [-70, -78] to [0, 1]\n",
    "#     # TODO 2a\n",
    "#     # TODO -- Your code here.\n",
    "\n",
    "#     # Scaling latitude from range [37, 45] to [0, 1]\n",
    "#     # TODO 2b\n",
    "#     # TODO -- Your code here.\n",
    "\n",
    "#     # add Euclidean distance\n",
    "#     transformed['euclidean'] = layers.Lambda(\n",
    "#         euclidean,\n",
    "#         name='euclidean')([inputs['pickup_longitude'],\n",
    "#                            inputs['pickup_latitude'],\n",
    "#                            inputs['dropoff_longitude'],\n",
    "#                            inputs['dropoff_latitude']])\n",
    "#     feature_columns['euclidean'] = fc.numeric_column('euclidean')\n",
    "\n",
    "#     # TODO 3a\n",
    "#     # TODO -- Your code here.\n",
    "\n",
    "#     # TODO 3b\n",
    "#     # TODO -- Your code here.\n",
    "\n",
    "#     # create embedding columns\n",
    "#     feature_columns['pickup_and_dropoff'] = fc.embedding_column(pd_pair, 100)\n",
    "\n",
    "#     print(\"Transformed features: {}\".format(transformed.keys()))\n",
    "#     print(\"Feature columns: {}\".format(feature_columns.keys()))\n",
    "#     return transformed, feature_columns"
   ]
  },
  {
   "cell_type": "code",
   "execution_count": 32,
   "metadata": {},
   "outputs": [],
   "source": [
    "test_input = [tf.keras.layers.Input(name = 'pickup_longitude', shape = (), dtype = 'float32') ]\n",
    "            #   for colname in ['pickup_longitude', 'dropoff_longitude']]\n",
    "            "
   ]
  },
  {
   "cell_type": "code",
   "execution_count": null,
   "metadata": {},
   "outputs": [],
   "source": [
    "# migrate to tensorflow v2.16.1\n",
    "def transform(inputs, numeric_cols, string_cols, nbuckets):\n",
    "    print(\"Inputs before features transformation: {}\".format(inputs()))\n",
    "\n",
    "    # Pass-through columns\n",
    "    transformed = inputs.copy()\n",
    "    del transformed['pickup_datetime']\n",
    "\n",
    "    feature_columns = {\n",
    "        colname: tf.feature_column.numeric_column(colname)\n",
    "        for colname in numeric_cols\n",
    "    }\n",
    "\n",
    "    # Scaling longitude from range [-70, -78] to [0, 1]\n",
    "    # TODO 2a\n",
    "    # TODO -- Your code here.\n",
    "\n",
    "    # Scaling latitude from range [37, 45] to [0, 1]\n",
    "    # TODO 2b\n",
    "    # TODO -- Your code here.\n",
    "\n",
    "    # add Euclidean distance\n",
    "    transformed['euclidean'] = layers.Lambda(\n",
    "        euclidean,\n",
    "        name='euclidean')([inputs['pickup_longitude'],\n",
    "                           inputs['pickup_latitude'],\n",
    "                           inputs['dropoff_longitude'],\n",
    "                           inputs['dropoff_latitude']])\n",
    "    feature_columns['euclidean'] = fc.numeric_column('euclidean')\n",
    "\n",
    "    # TODO 3a\n",
    "    # TODO -- Your code here.\n",
    "\n",
    "    # TODO 3b\n",
    "    # TODO -- Your code here.\n",
    "\n",
    "    # create embedding columns\n",
    "    feature_columns['pickup_and_dropoff'] = fc.embedding_column(pd_pair, 100)\n",
    "\n",
    "    print(\"Transformed features: {}\".format(transformed.keys()))\n",
    "    print(\"Feature columns: {}\".format(feature_columns.keys()))\n",
    "    return transformed, feature_columns"
   ]
  },
  {
   "cell_type": "markdown",
   "metadata": {},
   "source": [
    "Next, we'll create our DNN model now with the engineered features. We'll set `NBUCKETS = 10` to specify 10 buckets when bucketizing the latitude and longitude."
   ]
  },
  {
   "cell_type": "code",
   "execution_count": null,
   "metadata": {},
   "outputs": [],
   "source": [
    "# NBUCKETS = 10\n",
    "\n",
    "\n",
    "# # DNN MODEL\n",
    "# def rmse(y_true, y_pred):\n",
    "#     return tf.sqrt(tf.reduce_mean(tf.square(y_pred - y_true)))\n",
    "\n",
    "\n",
    "# def build_dnn_model():\n",
    "#     # input layer is all float except for pickup_datetime which is a string\n",
    "#     inputs = {\n",
    "#         colname: layers.Input(name=colname, shape=(), dtype='float32')\n",
    "#         for colname in NUMERIC_COLS\n",
    "#     }\n",
    "#     inputs.update({\n",
    "#         colname: tf.keras.layers.Input(name=colname, shape=(), dtype='string')\n",
    "#         for colname in STRING_COLS\n",
    "#     })\n",
    "\n",
    "#     # transforms\n",
    "#     transformed, feature_columns = transform(inputs,\n",
    "#                                              numeric_cols=NUMERIC_COLS,\n",
    "#                                              string_cols=STRING_COLS,\n",
    "#                                              nbuckets=NBUCKETS)\n",
    "#     dnn_inputs = layers.DenseFeatures(feature_columns.values())(transformed)\n",
    "\n",
    "#     # two hidden layers of [32, 8] just in like the BQML DNN\n",
    "#     h1 = layers.Dense(32, activation='relu', name='h1')(dnn_inputs)\n",
    "#     h2 = layers.Dense(8, activation='relu', name='h2')(h1)\n",
    "\n",
    "#     # final output is a linear activation because this is regression\n",
    "#     output = layers.Dense(1, activation='linear', name='fare')(h2)\n",
    "#     model = models.Model(inputs, output)\n",
    "\n",
    "#     # Compile model\n",
    "#     model.compile(optimizer='adam', loss='mse', metrics=[rmse, 'mse'])\n",
    "#     return model"
   ]
  },
  {
   "cell_type": "code",
   "execution_count": null,
   "metadata": {},
   "outputs": [],
   "source": [
    "#migrate to tf v2.16\n",
    "NBUCKETS = 10\n",
    "\n",
    "\n",
    "# DNN MODEL\n",
    "# def rmse(y_true, y_pred):\n",
    "#     return tf.sqrt(tf.reduce_mean(tf.square(y_pred - y_true)))\n",
    "\n",
    "#tf.keras.metrics.RootMeanSquaredError\n",
    "\n",
    "\n",
    "def build_dnn_model():\n",
    "    # input layer is all float except for pickup_datetime which is a string\n",
    "    inputs = [\n",
    "        layers.Input(name=colname, shape=(1,), dtype='float32')\n",
    "        for colname in NUMERIC_COLS\n",
    "    ]\n",
    "    inputs.update([\n",
    "        tf.keras.layers.Input(name=colname, shape=(1,), dtype='string')\n",
    "        for colname in STRING_COLS\n",
    "    ])\n",
    "\n",
    "    # transforms\n",
    "    transformed, feature_columns = transform(inputs,\n",
    "                                             numeric_cols=NUMERIC_COLS,\n",
    "                                             string_cols=STRING_COLS,\n",
    "                                             nbuckets=NBUCKETS)\n",
    "    dnn_inputs = layers.DenseFeatures(feature_columns.values())(transformed)\n",
    "\n",
    "    # two hidden layers of [32, 8] just in like the BQML DNN\n",
    "    h1 = layers.Dense(32, activation='relu', name='h1')(dnn_inputs)\n",
    "    h2 = layers.Dense(8, activation='relu', name='h2')(h1)\n",
    "\n",
    "    # final output is a linear activation because this is regression\n",
    "    output = layers.Dense(1, activation='linear', name='fare')(h2)\n",
    "    model = models.Model(inputs, output)\n",
    "\n",
    "    # Compile model\n",
    "    model.compile(optimizer='adam', loss='mse', metrics=[rmse, 'mse'])\n",
    "    return model"
   ]
  },
  {
   "cell_type": "code",
   "execution_count": null,
   "metadata": {},
   "outputs": [],
   "source": [
    "model = build_dnn_model()"
   ]
  },
  {
   "cell_type": "markdown",
   "metadata": {},
   "source": [
    "Let's see how our model architecture has changed now."
   ]
  },
  {
   "cell_type": "code",
   "execution_count": null,
   "metadata": {},
   "outputs": [],
   "source": [
    "tf.keras.utils.plot_model(model, 'dnn_model_engineered.png', show_shapes=False, rankdir='LR')"
   ]
  },
  {
   "cell_type": "code",
   "execution_count": null,
   "metadata": {},
   "outputs": [],
   "source": [
    "trainds = load_dataset('../data/taxi-train*',\n",
    "                       TRAIN_BATCH_SIZE,\n",
    "                       'train')\n",
    "evalds = load_dataset('../data/taxi-valid*',\n",
    "                      1000,\n",
    "                      'eval').take(NUM_EVAL_EXAMPLES//1000)\n",
    "\n",
    "steps_per_epoch = NUM_TRAIN_EXAMPLES // (TRAIN_BATCH_SIZE * NUM_EVALS)\n",
    "\n",
    "history = model.fit(trainds,\n",
    "                    validation_data=evalds,\n",
    "                    epochs=NUM_EVALS+3,\n",
    "                    steps_per_epoch=steps_per_epoch)"
   ]
  },
  {
   "cell_type": "markdown",
   "metadata": {},
   "source": [
    "As before, let's visualize the DNN model layers. "
   ]
  },
  {
   "cell_type": "code",
   "execution_count": null,
   "metadata": {},
   "outputs": [],
   "source": [
    "plot_curves(history, ['loss', 'mse'])"
   ]
  },
  {
   "cell_type": "markdown",
   "metadata": {},
   "source": [
    "Let's a prediction with this new model with engineered features on the example we had above. "
   ]
  },
  {
   "cell_type": "code",
   "execution_count": null,
   "metadata": {},
   "outputs": [],
   "source": [
    "model.predict({\n",
    "    'pickup_longitude': tf.convert_to_tensor([-73.982683]),\n",
    "    'pickup_latitude': tf.convert_to_tensor([40.742104]),\n",
    "    'dropoff_longitude': tf.convert_to_tensor([-73.983766]),\n",
    "    'dropoff_latitude': tf.convert_to_tensor([40.755174]),\n",
    "    'passenger_count': tf.convert_to_tensor([3.0]),\n",
    "    'pickup_datetime': tf.convert_to_tensor(['2010-02-08 09:17:00 UTC'], dtype=tf.string),\n",
    "}, steps=1)"
   ]
  },
  {
   "cell_type": "markdown",
   "metadata": {},
   "source": [
    "Below we summarize our training results comparing our baseline model with our model with engineered features."
   ]
  },
  {
   "cell_type": "markdown",
   "metadata": {},
   "source": [
    "| Model              | Taxi Fare | Description                               |\n",
    "|--------------------|-----------|-------------------------------------------|\n",
    "| Baseline           | value?     | Baseline model - no feature engineering |\n",
    "| Feature Engineered | value?      | Feature Engineered Model                |"
   ]
  },
  {
   "cell_type": "markdown",
   "metadata": {},
   "source": [
    "Copyright 2021 Google Inc.\n",
    "Licensed under the Apache License, Version 2.0 (the \"License\"); you may not use this file except in compliance with the License. You may obtain a copy of the License at\n",
    "http://www.apache.org/licenses/LICENSE-2.0\n",
    "Unless required by applicable law or agreed to in writing, software distributed under the License is distributed on an \"AS IS\" BASIS, WITHOUT WARRANTIES OR CONDITIONS OF ANY KIND, either express or implied. See the License for the specific language governing permissions and limitations under the License."
   ]
  }
 ],
 "metadata": {
  "environment": {
   "kernel": "python3",
   "name": "tf2-gpu.2-6.m87",
   "type": "gcloud",
   "uri": "gcr.io/deeplearning-platform-release/tf2-gpu.2-6:m87"
  },
  "kernelspec": {
   "display_name": "Python 3",
   "language": "python",
   "name": "python3"
  },
  "language_info": {
   "codemirror_mode": {
    "name": "ipython",
    "version": 3
   },
   "file_extension": ".py",
   "mimetype": "text/x-python",
   "name": "python",
   "nbconvert_exporter": "python",
   "pygments_lexer": "ipython3",
   "version": "3.11.9"
  }
 },
 "nbformat": 4,
 "nbformat_minor": 4
}
